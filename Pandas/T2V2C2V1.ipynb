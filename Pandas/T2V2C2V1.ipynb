{
  "nbformat": 4,
  "nbformat_minor": 0,
  "metadata": {
    "colab": {
      "name": "T2V2C2V1.ipynb",
      "provenance": [],
      "collapsed_sections": []
    },
    "kernelspec": {
      "name": "python3",
      "display_name": "Python 3"
    }
  },
  "cells": [
    {
      "cell_type": "markdown",
      "metadata": {
        "id": "kzjZBSSdHnrG",
        "colab_type": "text"
      },
      "source": [
        "# **Pandas Series**"
      ]
    },
    {
      "cell_type": "code",
      "metadata": {
        "id": "b5CjPPnjIFdb",
        "colab_type": "code",
        "colab": {}
      },
      "source": [
        "import numpy as np\n",
        "import pandas as pd"
      ],
      "execution_count": 0,
      "outputs": []
    },
    {
      "cell_type": "code",
      "metadata": {
        "id": "rfm14COaHt5R",
        "colab_type": "code",
        "colab": {}
      },
      "source": [
        "labels = ['a', 'b', 'c']\n",
        "\n",
        "mylist = [10, 20, 30]\n",
        "\n",
        "arr = np.array([10, 20, 30])"
      ],
      "execution_count": 0,
      "outputs": []
    },
    {
      "cell_type": "code",
      "metadata": {
        "id": "jlk9rWqnIBfB",
        "colab_type": "code",
        "colab": {}
      },
      "source": [
        "d = {'a': 10, 'b': 20, 'c': 30}"
      ],
      "execution_count": 0,
      "outputs": []
    },
    {
      "cell_type": "code",
      "metadata": {
        "id": "DJwujQM1Ibio",
        "colab_type": "code",
        "colab": {
          "base_uri": "https://localhost:8080/",
          "height": 85
        },
        "outputId": "d1d0f0d4-c92d-4663-c46c-8195d2ecd0ea"
      },
      "source": [
        "# Pandas Series default index\n",
        "pd.Series(data=mylist)"
      ],
      "execution_count": 8,
      "outputs": [
        {
          "output_type": "execute_result",
          "data": {
            "text/plain": [
              "0    10\n",
              "1    20\n",
              "2    30\n",
              "dtype: int64"
            ]
          },
          "metadata": {
            "tags": []
          },
          "execution_count": 8
        }
      ]
    },
    {
      "cell_type": "code",
      "metadata": {
        "id": "AiZDOVWrI39G",
        "colab_type": "code",
        "colab": {
          "base_uri": "https://localhost:8080/",
          "height": 85
        },
        "outputId": "501b80a2-bf69-40c3-c5a6-e78fa46ddc96"
      },
      "source": [
        "# Pandas Series set index\n",
        "pd.Series(data=mylist, index=labels)"
      ],
      "execution_count": 7,
      "outputs": [
        {
          "output_type": "execute_result",
          "data": {
            "text/plain": [
              "a    10\n",
              "b    20\n",
              "c    30\n",
              "dtype: int64"
            ]
          },
          "metadata": {
            "tags": []
          },
          "execution_count": 7
        }
      ]
    },
    {
      "cell_type": "code",
      "metadata": {
        "id": "d10EkIesI8C2",
        "colab_type": "code",
        "colab": {
          "base_uri": "https://localhost:8080/",
          "height": 85
        },
        "outputId": "b5c9401f-2e88-4729-b825-922a92ed86ef"
      },
      "source": [
        "# same thing with numpy array\n",
        "pd.Series(arr, labels)"
      ],
      "execution_count": 9,
      "outputs": [
        {
          "output_type": "execute_result",
          "data": {
            "text/plain": [
              "a    10\n",
              "b    20\n",
              "c    30\n",
              "dtype: int64"
            ]
          },
          "metadata": {
            "tags": []
          },
          "execution_count": 9
        }
      ]
    },
    {
      "cell_type": "code",
      "metadata": {
        "id": "mqzGRehQJkfk",
        "colab_type": "code",
        "colab": {
          "base_uri": "https://localhost:8080/",
          "height": 85
        },
        "outputId": "81d033e3-0e49-4e1f-879c-a778d958d527"
      },
      "source": [
        "# using dictionary\n",
        "pd.Series(d)"
      ],
      "execution_count": 10,
      "outputs": [
        {
          "output_type": "execute_result",
          "data": {
            "text/plain": [
              "a    10\n",
              "b    20\n",
              "c    30\n",
              "dtype: int64"
            ]
          },
          "metadata": {
            "tags": []
          },
          "execution_count": 10
        }
      ]
    },
    {
      "cell_type": "code",
      "metadata": {
        "id": "LMneQ-WwJxbD",
        "colab_type": "code",
        "colab": {}
      },
      "source": [
        "salesQ1= pd.Series(data=[250, 450, 200, 150], index=['USA', 'China', 'Pakistan', 'Brazil'])"
      ],
      "execution_count": 0,
      "outputs": []
    },
    {
      "cell_type": "code",
      "metadata": {
        "id": "y9raH207TBNQ",
        "colab_type": "code",
        "colab": {
          "base_uri": "https://localhost:8080/",
          "height": 102
        },
        "outputId": "6a6bab8f-c9ba-4b63-a579-00956b2196a1"
      },
      "source": [
        "salesQ1"
      ],
      "execution_count": 17,
      "outputs": [
        {
          "output_type": "execute_result",
          "data": {
            "text/plain": [
              "USA         250\n",
              "China       450\n",
              "Pakistan    200\n",
              "Brazil      150\n",
              "dtype: int64"
            ]
          },
          "metadata": {
            "tags": []
          },
          "execution_count": 17
        }
      ]
    },
    {
      "cell_type": "code",
      "metadata": {
        "id": "6AkzvziOTIT1",
        "colab_type": "code",
        "colab": {}
      },
      "source": [
        "salesQ2= pd.Series(data=[260, 500, 210, 100], index=['USA', 'China', 'Japan', 'Brazil'])"
      ],
      "execution_count": 0,
      "outputs": []
    },
    {
      "cell_type": "code",
      "metadata": {
        "id": "Smjao3tqTbEU",
        "colab_type": "code",
        "colab": {
          "base_uri": "https://localhost:8080/",
          "height": 102
        },
        "outputId": "74e3e51d-c34a-4647-f635-21eac4731b64"
      },
      "source": [
        "salesQ2"
      ],
      "execution_count": 20,
      "outputs": [
        {
          "output_type": "execute_result",
          "data": {
            "text/plain": [
              "USA       260\n",
              "China     500\n",
              "Japan     210\n",
              "Brazil    100\n",
              "dtype: int64"
            ]
          },
          "metadata": {
            "tags": []
          },
          "execution_count": 20
        }
      ]
    },
    {
      "cell_type": "code",
      "metadata": {
        "id": "RRTfELi2TgTT",
        "colab_type": "code",
        "colab": {
          "base_uri": "https://localhost:8080/",
          "height": 34
        },
        "outputId": "da8567d6-d3a8-4070-b6bf-b6a614245f65"
      },
      "source": [
        "salesQ2['USA']"
      ],
      "execution_count": 21,
      "outputs": [
        {
          "output_type": "execute_result",
          "data": {
            "text/plain": [
              "260"
            ]
          },
          "metadata": {
            "tags": []
          },
          "execution_count": 21
        }
      ]
    },
    {
      "cell_type": "code",
      "metadata": {
        "id": "Ex2-tI62T9vy",
        "colab_type": "code",
        "colab": {
          "base_uri": "https://localhost:8080/",
          "height": 34
        },
        "outputId": "5a7132ca-fdcf-4cb3-c06a-8f6bd4197626"
      },
      "source": [
        "salesQ2[0]"
      ],
      "execution_count": 22,
      "outputs": [
        {
          "output_type": "execute_result",
          "data": {
            "text/plain": [
              "260"
            ]
          },
          "metadata": {
            "tags": []
          },
          "execution_count": 22
        }
      ]
    },
    {
      "cell_type": "code",
      "metadata": {
        "id": "0kYVS1vLU_Hv",
        "colab_type": "code",
        "colab": {
          "base_uri": "https://localhost:8080/",
          "height": 119
        },
        "outputId": "3233d596-b4b4-49b9-97ed-7668d3caa4b6"
      },
      "source": [
        "salesQ1 + salesQ2"
      ],
      "execution_count": 23,
      "outputs": [
        {
          "output_type": "execute_result",
          "data": {
            "text/plain": [
              "Brazil      250.0\n",
              "China       950.0\n",
              "Japan         NaN\n",
              "Pakistan      NaN\n",
              "USA         510.0\n",
              "dtype: float64"
            ]
          },
          "metadata": {
            "tags": []
          },
          "execution_count": 23
        }
      ]
    },
    {
      "cell_type": "code",
      "metadata": {
        "id": "R0lxuYPwVeT-",
        "colab_type": "code",
        "colab": {}
      },
      "source": [
        ""
      ],
      "execution_count": 0,
      "outputs": []
    }
  ]
}