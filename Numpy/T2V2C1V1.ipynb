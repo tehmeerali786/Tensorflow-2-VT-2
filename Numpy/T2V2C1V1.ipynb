{
  "nbformat": 4,
  "nbformat_minor": 0,
  "metadata": {
    "colab": {
      "name": "T2V2C1V1.ipynb",
      "provenance": [],
      "collapsed_sections": []
    },
    "kernelspec": {
      "name": "python3",
      "display_name": "Python 3"
    }
  },
  "cells": [
    {
      "cell_type": "markdown",
      "metadata": {
        "id": "gAG2Guu4uRo7",
        "colab_type": "text"
      },
      "source": [
        "# **Numpy Array**"
      ]
    },
    {
      "cell_type": "code",
      "metadata": {
        "id": "tiketO1SuWme",
        "colab_type": "code",
        "colab": {
          "base_uri": "https://localhost:8080/",
          "height": 85
        },
        "outputId": "dd2c4d80-5b35-4cc6-8bb5-476402e6f149"
      },
      "source": [
        "!pip install -q tensorflow==2.1.0"
      ],
      "execution_count": 1,
      "outputs": [
        {
          "output_type": "stream",
          "text": [
            "\u001b[K     |████████████████████████████████| 421.8MB 38kB/s \n",
            "\u001b[K     |████████████████████████████████| 3.9MB 34.9MB/s \n",
            "\u001b[K     |████████████████████████████████| 450kB 30.9MB/s \n",
            "\u001b[?25h  Building wheel for gast (setup.py) ... \u001b[?25l\u001b[?25hdone\n"
          ],
          "name": "stdout"
        }
      ]
    },
    {
      "cell_type": "code",
      "metadata": {
        "id": "KuPPMlXEupF1",
        "colab_type": "code",
        "colab": {}
      },
      "source": [
        "import numpy as np"
      ],
      "execution_count": 0,
      "outputs": []
    },
    {
      "cell_type": "code",
      "metadata": {
        "id": "QFx38aWPvUtg",
        "colab_type": "code",
        "colab": {}
      },
      "source": [
        "mylist = [1,2,3]"
      ],
      "execution_count": 0,
      "outputs": []
    },
    {
      "cell_type": "code",
      "metadata": {
        "id": "l-H7Kx3CvYw7",
        "colab_type": "code",
        "colab": {
          "base_uri": "https://localhost:8080/",
          "height": 34
        },
        "outputId": "c0641227-ad09-43e1-c280-062a45284cf8"
      },
      "source": [
        "np.array(mylist)"
      ],
      "execution_count": 4,
      "outputs": [
        {
          "output_type": "execute_result",
          "data": {
            "text/plain": [
              "array([1, 2, 3])"
            ]
          },
          "metadata": {
            "tags": []
          },
          "execution_count": 4
        }
      ]
    },
    {
      "cell_type": "code",
      "metadata": {
        "id": "cahgSMGGvbF7",
        "colab_type": "code",
        "colab": {
          "base_uri": "https://localhost:8080/",
          "height": 34
        },
        "outputId": "3cacb720-20f8-4265-c9e1-a8da3bddda0a"
      },
      "source": [
        "type(mylist)"
      ],
      "execution_count": 5,
      "outputs": [
        {
          "output_type": "execute_result",
          "data": {
            "text/plain": [
              "list"
            ]
          },
          "metadata": {
            "tags": []
          },
          "execution_count": 5
        }
      ]
    },
    {
      "cell_type": "code",
      "metadata": {
        "id": "ouP3oOAmveAq",
        "colab_type": "code",
        "colab": {}
      },
      "source": [
        "nested_list = [[1,2], [3,4], [5,6]]"
      ],
      "execution_count": 0,
      "outputs": []
    },
    {
      "cell_type": "code",
      "metadata": {
        "id": "4DA6qBJLvwEp",
        "colab_type": "code",
        "colab": {
          "base_uri": "https://localhost:8080/",
          "height": 34
        },
        "outputId": "ab79e0dc-1b0d-4dca-b8cd-a251794271a9"
      },
      "source": [
        "nested_list"
      ],
      "execution_count": 7,
      "outputs": [
        {
          "output_type": "execute_result",
          "data": {
            "text/plain": [
              "[[1, 2], [3, 4], [5, 6]]"
            ]
          },
          "metadata": {
            "tags": []
          },
          "execution_count": 7
        }
      ]
    },
    {
      "cell_type": "code",
      "metadata": {
        "id": "KtTYLmSxvxEJ",
        "colab_type": "code",
        "colab": {
          "base_uri": "https://localhost:8080/",
          "height": 68
        },
        "outputId": "96a29ba6-0dc4-475b-b3f9-5be3fc41c142"
      },
      "source": [
        "np.array(nested_list)"
      ],
      "execution_count": 8,
      "outputs": [
        {
          "output_type": "execute_result",
          "data": {
            "text/plain": [
              "array([[1, 2],\n",
              "       [3, 4],\n",
              "       [5, 6]])"
            ]
          },
          "metadata": {
            "tags": []
          },
          "execution_count": 8
        }
      ]
    },
    {
      "cell_type": "markdown",
      "metadata": {
        "id": "q6HM_yIuw3_K",
        "colab_type": "text"
      },
      "source": [
        "##**np.arange()** \n",
        "Function to create numpy array starting and stop and distance in between"
      ]
    },
    {
      "cell_type": "code",
      "metadata": {
        "id": "PYG0Oztfvzq5",
        "colab_type": "code",
        "colab": {
          "base_uri": "https://localhost:8080/",
          "height": 34
        },
        "outputId": "5343fa60-457c-4d59-a912-f9349d9f1c2d"
      },
      "source": [
        "np.arange(0,10)"
      ],
      "execution_count": 9,
      "outputs": [
        {
          "output_type": "execute_result",
          "data": {
            "text/plain": [
              "array([0, 1, 2, 3, 4, 5, 6, 7, 8, 9])"
            ]
          },
          "metadata": {
            "tags": []
          },
          "execution_count": 9
        }
      ]
    },
    {
      "cell_type": "code",
      "metadata": {
        "id": "zT7UvlYtxdqn",
        "colab_type": "code",
        "colab": {
          "base_uri": "https://localhost:8080/",
          "height": 34
        },
        "outputId": "b474d665-38e1-4f94-e7fe-0dce626bd08b"
      },
      "source": [
        "# to get even numbers. np.arange() generates integers. most other np functions generate floating point precission \n",
        "np.arange(0, 10, 2)"
      ],
      "execution_count": 10,
      "outputs": [
        {
          "output_type": "execute_result",
          "data": {
            "text/plain": [
              "array([0, 2, 4, 6, 8])"
            ]
          },
          "metadata": {
            "tags": []
          },
          "execution_count": 10
        }
      ]
    },
    {
      "cell_type": "code",
      "metadata": {
        "id": "ahCWEK5pxrUE",
        "colab_type": "code",
        "colab": {
          "base_uri": "https://localhost:8080/",
          "height": 34
        },
        "outputId": "adbaeca5-3d3c-43e9-d39e-550379af1276"
      },
      "source": [
        "# to generate array of zeros. it generates floating point precission zeros.\n",
        "np.zeros(3)"
      ],
      "execution_count": 11,
      "outputs": [
        {
          "output_type": "execute_result",
          "data": {
            "text/plain": [
              "array([0., 0., 0.])"
            ]
          },
          "metadata": {
            "tags": []
          },
          "execution_count": 11
        }
      ]
    },
    {
      "cell_type": "code",
      "metadata": {
        "id": "GAQhTQ93zXdi",
        "colab_type": "code",
        "colab": {
          "base_uri": "https://localhost:8080/",
          "height": 85
        },
        "outputId": "ec585559-09bb-4e78-c5b6-84e8e833289a"
      },
      "source": [
        "# to generate array of zeros with dimensions. 0 index of tuple is for rows and 1 index is for columns. \n",
        "# if you want numbers to be integers, you can use second \"dtype\" argument to change to integers\n",
        "np.zeros((4,10))"
      ],
      "execution_count": 12,
      "outputs": [
        {
          "output_type": "execute_result",
          "data": {
            "text/plain": [
              "array([[0., 0., 0., 0., 0., 0., 0., 0., 0., 0.],\n",
              "       [0., 0., 0., 0., 0., 0., 0., 0., 0., 0.],\n",
              "       [0., 0., 0., 0., 0., 0., 0., 0., 0., 0.],\n",
              "       [0., 0., 0., 0., 0., 0., 0., 0., 0., 0.]])"
            ]
          },
          "metadata": {
            "tags": []
          },
          "execution_count": 12
        }
      ]
    },
    {
      "cell_type": "code",
      "metadata": {
        "id": "n0Q-LlWWz9fc",
        "colab_type": "code",
        "colab": {
          "base_uri": "https://localhost:8080/",
          "height": 34
        },
        "outputId": "d991cf21-c9ce-4139-acf1-0ef4a886db00"
      },
      "source": [
        "np.ones(3)"
      ],
      "execution_count": 13,
      "outputs": [
        {
          "output_type": "execute_result",
          "data": {
            "text/plain": [
              "array([1., 1., 1.])"
            ]
          },
          "metadata": {
            "tags": []
          },
          "execution_count": 13
        }
      ]
    },
    {
      "cell_type": "code",
      "metadata": {
        "id": "60XGTOVf1z7p",
        "colab_type": "code",
        "colab": {
          "base_uri": "https://localhost:8080/",
          "height": 85
        },
        "outputId": "2aff22c8-6d4e-437d-d122-c01dba3c50fe"
      },
      "source": [
        "np.ones((4,10), dtype=int)"
      ],
      "execution_count": 15,
      "outputs": [
        {
          "output_type": "execute_result",
          "data": {
            "text/plain": [
              "array([[1, 1, 1, 1, 1, 1, 1, 1, 1, 1],\n",
              "       [1, 1, 1, 1, 1, 1, 1, 1, 1, 1],\n",
              "       [1, 1, 1, 1, 1, 1, 1, 1, 1, 1],\n",
              "       [1, 1, 1, 1, 1, 1, 1, 1, 1, 1]])"
            ]
          },
          "metadata": {
            "tags": []
          },
          "execution_count": 15
        }
      ]
    },
    {
      "cell_type": "code",
      "metadata": {
        "id": "eilNouNe11sX",
        "colab_type": "code",
        "colab": {
          "base_uri": "https://localhost:8080/",
          "height": 34
        },
        "outputId": "858a9ecb-0f66-44e3-fe00-a8f528ab6d25"
      },
      "source": [
        "# linear space function returns number elements you want in linear space.\n",
        "# it is different than np.arange() in fashion that it finds number itself. \n",
        "# you have to mention counts of the numbers that you want. \n",
        "np.linspace(0, 10, 3)"
      ],
      "execution_count": 16,
      "outputs": [
        {
          "output_type": "execute_result",
          "data": {
            "text/plain": [
              "array([ 0.,  5., 10.])"
            ]
          },
          "metadata": {
            "tags": []
          },
          "execution_count": 16
        }
      ]
    },
    {
      "cell_type": "code",
      "metadata": {
        "id": "2fVbTteh2X8k",
        "colab_type": "code",
        "colab": {
          "base_uri": "https://localhost:8080/",
          "height": 51
        },
        "outputId": "6cdf9c3b-43d6-42df-cb89-12badb7f6abc"
      },
      "source": [
        "# linear space function returns number elements you want in linear space.\n",
        "# it is different than np.arange() in fashion that it finds number itself. \n",
        "# you have to mention counts of the numbers that you want. \n",
        "# This time 21 points between 0 and 10\n",
        "# linspace does include stopping point\n",
        "# in this case, 10 is included\n",
        "np.linspace(0, 10, 21)"
      ],
      "execution_count": 17,
      "outputs": [
        {
          "output_type": "execute_result",
          "data": {
            "text/plain": [
              "array([ 0. ,  0.5,  1. ,  1.5,  2. ,  2.5,  3. ,  3.5,  4. ,  4.5,  5. ,\n",
              "        5.5,  6. ,  6.5,  7. ,  7.5,  8. ,  8.5,  9. ,  9.5, 10. ])"
            ]
          },
          "metadata": {
            "tags": []
          },
          "execution_count": 17
        }
      ]
    },
    {
      "cell_type": "code",
      "metadata": {
        "id": "hgbPUNMqnS0t",
        "colab_type": "code",
        "colab": {
          "base_uri": "https://localhost:8080/",
          "height": 102
        },
        "outputId": "cac11072-1351-4e22-e839-412ca2a2f517"
      },
      "source": [
        "# eye() creates identity matrix like in linear algebra\n",
        "np.eye(5)"
      ],
      "execution_count": 18,
      "outputs": [
        {
          "output_type": "execute_result",
          "data": {
            "text/plain": [
              "array([[1., 0., 0., 0., 0.],\n",
              "       [0., 1., 0., 0., 0.],\n",
              "       [0., 0., 1., 0., 0.],\n",
              "       [0., 0., 0., 1., 0.],\n",
              "       [0., 0., 0., 0., 1.]])"
            ]
          },
          "metadata": {
            "tags": []
          },
          "execution_count": 18
        }
      ]
    },
    {
      "cell_type": "code",
      "metadata": {
        "id": "QiIPc2ZyoCmF",
        "colab_type": "code",
        "colab": {
          "base_uri": "https://localhost:8080/",
          "height": 34
        },
        "outputId": "527d653f-6fc9-47cf-c1a4-1b559107fa0a"
      },
      "source": [
        "# np.random object has many random functions\n",
        "# if you want to know, hit shift+tab after np.random.\n",
        "# each function gives different kind of random distribution\n",
        "# if you want to know particular function, like np.random.rand,\n",
        "# just simply press shift+tab\n",
        "# default is between 0 and 1\n",
        "np.random.rand(2)"
      ],
      "execution_count": 19,
      "outputs": [
        {
          "output_type": "execute_result",
          "data": {
            "text/plain": [
              "array([0.43141592, 0.83822491])"
            ]
          },
          "metadata": {
            "tags": []
          },
          "execution_count": 19
        }
      ]
    },
    {
      "cell_type": "code",
      "metadata": {
        "id": "503BmypVpe-T",
        "colab_type": "code",
        "colab": {
          "base_uri": "https://localhost:8080/",
          "height": 68
        },
        "outputId": "1f3c7f5b-07ed-4ca9-a417-8784c2f169df"
      },
      "source": [
        "# if you need matrix in random, you just use 2 numbers.\n",
        "# no tuple. \n",
        "np.random.rand(3,4)"
      ],
      "execution_count": 20,
      "outputs": [
        {
          "output_type": "execute_result",
          "data": {
            "text/plain": [
              "array([[0.85866212, 0.21692862, 0.25860923, 0.32372062],\n",
              "       [0.20312863, 0.68931443, 0.36188778, 0.62763834],\n",
              "       [0.13751355, 0.57962105, 0.27200874, 0.86750545]])"
            ]
          },
          "metadata": {
            "tags": []
          },
          "execution_count": 20
        }
      ]
    },
    {
      "cell_type": "code",
      "metadata": {
        "id": "LZszrppup1nw",
        "colab_type": "code",
        "colab": {
          "base_uri": "https://localhost:8080/",
          "height": 102
        },
        "outputId": "2ca258e3-eb70-4db5-b098-0646c20df9ba"
      },
      "source": [
        "# for standard normal distribution\n",
        "# means, mean = 0 and standard deviation =1\n",
        "# since it is 1, variance is also 1\n",
        "# therefore, it allows us to have some negative numbers too\n",
        "np.random.randn(5,5)"
      ],
      "execution_count": 21,
      "outputs": [
        {
          "output_type": "execute_result",
          "data": {
            "text/plain": [
              "array([[ 1.86928126,  0.45920866, -0.16463516, -1.65681249, -1.39236213],\n",
              "       [-0.59405267, -0.86045681, -0.166256  ,  2.03813111, -1.38977289],\n",
              "       [-1.10218647, -0.78870255,  1.20924617, -0.3626343 , -0.75388795],\n",
              "       [ 0.24683471, -0.02843029,  0.80629109,  0.98686313,  0.34172354],\n",
              "       [-0.56419773,  0.84650228, -0.56542691, -0.63613701, -0.79054391]])"
            ]
          },
          "metadata": {
            "tags": []
          },
          "execution_count": 21
        }
      ]
    },
    {
      "cell_type": "code",
      "metadata": {
        "id": "jY27gUnXq3fc",
        "colab_type": "code",
        "colab": {
          "base_uri": "https://localhost:8080/",
          "height": 34
        },
        "outputId": "d65b4520-b89a-4874-afd1-69f07cbdbc8b"
      },
      "source": [
        "# random integers pick integer from low to high-1\n",
        "# for example, you want to pick up the random age of a person\n",
        "np.random.randint(1,100)"
      ],
      "execution_count": 22,
      "outputs": [
        {
          "output_type": "execute_result",
          "data": {
            "text/plain": [
              "28"
            ]
          },
          "metadata": {
            "tags": []
          },
          "execution_count": 22
        }
      ]
    },
    {
      "cell_type": "code",
      "metadata": {
        "id": "l_65Bn5OvxKQ",
        "colab_type": "code",
        "colab": {
          "base_uri": "https://localhost:8080/",
          "height": 34
        },
        "outputId": "55e9cc44-7c65-4a86-effb-f5d8f23bf137"
      },
      "source": [
        "# if you want 10 random ages of people\n",
        "np.random.randint(1,100, 10)"
      ],
      "execution_count": 23,
      "outputs": [
        {
          "output_type": "execute_result",
          "data": {
            "text/plain": [
              "array([42, 81, 12, 16, 35, 14, 66, 65, 31, 35])"
            ]
          },
          "metadata": {
            "tags": []
          },
          "execution_count": 23
        }
      ]
    },
    {
      "cell_type": "code",
      "metadata": {
        "id": "QzwLmdI6v9N8",
        "colab_type": "code",
        "colab": {
          "base_uri": "https://localhost:8080/",
          "height": 68
        },
        "outputId": "637d6c3f-165b-40ef-b92f-dd1c29b5ff5c"
      },
      "source": [
        "# if you want certain random ages of people in matrix,\n",
        "# you enter tuple of dimension\n",
        "np.random.randint(1,100, (3, 4))"
      ],
      "execution_count": 24,
      "outputs": [
        {
          "output_type": "execute_result",
          "data": {
            "text/plain": [
              "array([[19, 32,  8, 79],\n",
              "       [88, 70, 17, 27],\n",
              "       [56, 16,  9, 50]])"
            ]
          },
          "metadata": {
            "tags": []
          },
          "execution_count": 24
        }
      ]
    },
    {
      "cell_type": "code",
      "metadata": {
        "id": "3XS44WBuwNwL",
        "colab_type": "code",
        "colab": {
          "base_uri": "https://localhost:8080/",
          "height": 34
        },
        "outputId": "63851a24-11fb-4186-9cf7-48783f13cb80"
      },
      "source": [
        "# if you want same numbers for you and others,\n",
        "# or all the time, you chose seed with arbitrary number\n",
        "np.random.seed(42)\n",
        "np.random.rand(4)"
      ],
      "execution_count": 25,
      "outputs": [
        {
          "output_type": "execute_result",
          "data": {
            "text/plain": [
              "array([0.37454012, 0.95071431, 0.73199394, 0.59865848])"
            ]
          },
          "metadata": {
            "tags": []
          },
          "execution_count": 25
        }
      ]
    },
    {
      "cell_type": "code",
      "metadata": {
        "id": "B2GnJz-Jw2xJ",
        "colab_type": "code",
        "colab": {
          "base_uri": "https://localhost:8080/",
          "height": 51
        },
        "outputId": "0f6db9c0-038c-4244-abe3-f91fee6599c1"
      },
      "source": [
        "# from now for few cells, you will learn to reshape your arrays\n",
        "arr = np.arange(25)\n",
        "arr"
      ],
      "execution_count": 26,
      "outputs": [
        {
          "output_type": "execute_result",
          "data": {
            "text/plain": [
              "array([ 0,  1,  2,  3,  4,  5,  6,  7,  8,  9, 10, 11, 12, 13, 14, 15, 16,\n",
              "       17, 18, 19, 20, 21, 22, 23, 24])"
            ]
          },
          "metadata": {
            "tags": []
          },
          "execution_count": 26
        }
      ]
    },
    {
      "cell_type": "code",
      "metadata": {
        "id": "zQVAYBqwx-Nl",
        "colab_type": "code",
        "colab": {
          "base_uri": "https://localhost:8080/",
          "height": 34
        },
        "outputId": "b4d09474-8e0a-4439-b371-ad4dfb0d547d"
      },
      "source": [
        "ranarr = np.random.randint(0, 50, 10)\n",
        "ranarr"
      ],
      "execution_count": 27,
      "outputs": [
        {
          "output_type": "execute_result",
          "data": {
            "text/plain": [
              "array([38, 18, 22, 10, 10, 23, 35, 39, 23,  2])"
            ]
          },
          "metadata": {
            "tags": []
          },
          "execution_count": 27
        }
      ]
    },
    {
      "cell_type": "code",
      "metadata": {
        "id": "n7Sx_iV9yKVE",
        "colab_type": "code",
        "colab": {
          "base_uri": "https://localhost:8080/",
          "height": 34
        },
        "outputId": "bd02e953-35fe-436a-b751-802a3a07124b"
      },
      "source": [
        "arr.shape"
      ],
      "execution_count": 28,
      "outputs": [
        {
          "output_type": "execute_result",
          "data": {
            "text/plain": [
              "(25,)"
            ]
          },
          "metadata": {
            "tags": []
          },
          "execution_count": 28
        }
      ]
    },
    {
      "cell_type": "code",
      "metadata": {
        "id": "5MDsuncdyUEl",
        "colab_type": "code",
        "colab": {
          "base_uri": "https://localhost:8080/",
          "height": 102
        },
        "outputId": "e49b23b2-f9f6-485a-91e1-9eedab40f005"
      },
      "source": [
        "arr.reshape(5,5)"
      ],
      "execution_count": 29,
      "outputs": [
        {
          "output_type": "execute_result",
          "data": {
            "text/plain": [
              "array([[ 0,  1,  2,  3,  4],\n",
              "       [ 5,  6,  7,  8,  9],\n",
              "       [10, 11, 12, 13, 14],\n",
              "       [15, 16, 17, 18, 19],\n",
              "       [20, 21, 22, 23, 24]])"
            ]
          },
          "metadata": {
            "tags": []
          },
          "execution_count": 29
        }
      ]
    },
    {
      "cell_type": "code",
      "metadata": {
        "id": "raEU10_Yyc8k",
        "colab_type": "code",
        "colab": {
          "base_uri": "https://localhost:8080/",
          "height": 34
        },
        "outputId": "9604fba2-2310-4da9-d4bf-e0dd7ac504c9"
      },
      "source": [
        "arr = arr.reshape(5,5)\n",
        "arr.shape"
      ],
      "execution_count": 30,
      "outputs": [
        {
          "output_type": "execute_result",
          "data": {
            "text/plain": [
              "(5, 5)"
            ]
          },
          "metadata": {
            "tags": []
          },
          "execution_count": 30
        }
      ]
    },
    {
      "cell_type": "code",
      "metadata": {
        "id": "gN3TJBgaypXD",
        "colab_type": "code",
        "colab": {
          "base_uri": "https://localhost:8080/",
          "height": 102
        },
        "outputId": "9df57b4c-8c1f-4c59-c846-db920e4eb524"
      },
      "source": [
        "arr"
      ],
      "execution_count": 31,
      "outputs": [
        {
          "output_type": "execute_result",
          "data": {
            "text/plain": [
              "array([[ 0,  1,  2,  3,  4],\n",
              "       [ 5,  6,  7,  8,  9],\n",
              "       [10, 11, 12, 13, 14],\n",
              "       [15, 16, 17, 18, 19],\n",
              "       [20, 21, 22, 23, 24]])"
            ]
          },
          "metadata": {
            "tags": []
          },
          "execution_count": 31
        }
      ]
    },
    {
      "cell_type": "code",
      "metadata": {
        "id": "1gMT29XEyqQP",
        "colab_type": "code",
        "colab": {
          "base_uri": "https://localhost:8080/",
          "height": 164
        },
        "outputId": "f00ed785-423d-4d79-ba6c-eccc48bbd630"
      },
      "source": [
        "# you cannot reshape the array in dimensions that can't make sense\n",
        "# arr has 25 elments. if you try to reshape into 3x6 matrix,\n",
        "# it will not be able to. It is because; 3x6 are 18 elements. Not 25!\n",
        "arr.reshape(3,6)\n"
      ],
      "execution_count": 32,
      "outputs": [
        {
          "output_type": "error",
          "ename": "ValueError",
          "evalue": "ignored",
          "traceback": [
            "\u001b[0;31m---------------------------------------------------------------------------\u001b[0m",
            "\u001b[0;31mValueError\u001b[0m                                Traceback (most recent call last)",
            "\u001b[0;32m<ipython-input-32-44e958daa3c4>\u001b[0m in \u001b[0;36m<module>\u001b[0;34m()\u001b[0m\n\u001b[0;32m----> 1\u001b[0;31m \u001b[0marr\u001b[0m\u001b[0;34m.\u001b[0m\u001b[0mreshape\u001b[0m\u001b[0;34m(\u001b[0m\u001b[0;36m3\u001b[0m\u001b[0;34m,\u001b[0m\u001b[0;36m6\u001b[0m\u001b[0;34m)\u001b[0m\u001b[0;34m\u001b[0m\u001b[0;34m\u001b[0m\u001b[0m\n\u001b[0m",
            "\u001b[0;31mValueError\u001b[0m: cannot reshape array of size 25 into shape (3,6)"
          ]
        }
      ]
    },
    {
      "cell_type": "code",
      "metadata": {
        "id": "arvkDuKMzSX7",
        "colab_type": "code",
        "colab": {
          "base_uri": "https://localhost:8080/",
          "height": 34
        },
        "outputId": "b232c041-edef-470b-a97f-f1090b6ffcef"
      },
      "source": [
        "# if you want to know max value in array\n",
        "ranarr"
      ],
      "execution_count": 33,
      "outputs": [
        {
          "output_type": "execute_result",
          "data": {
            "text/plain": [
              "array([38, 18, 22, 10, 10, 23, 35, 39, 23,  2])"
            ]
          },
          "metadata": {
            "tags": []
          },
          "execution_count": 33
        }
      ]
    },
    {
      "cell_type": "code",
      "metadata": {
        "id": "HJs41YuJzifg",
        "colab_type": "code",
        "colab": {
          "base_uri": "https://localhost:8080/",
          "height": 34
        },
        "outputId": "ed049795-fb09-4106-9624-4e96fb06e823"
      },
      "source": [
        "ranarr.max()"
      ],
      "execution_count": 34,
      "outputs": [
        {
          "output_type": "execute_result",
          "data": {
            "text/plain": [
              "39"
            ]
          },
          "metadata": {
            "tags": []
          },
          "execution_count": 34
        }
      ]
    },
    {
      "cell_type": "code",
      "metadata": {
        "id": "M0eaEt9lzklA",
        "colab_type": "code",
        "colab": {
          "base_uri": "https://localhost:8080/",
          "height": 34
        },
        "outputId": "01460617-2380-4420-e9cc-1dd1ef19d758"
      },
      "source": [
        "# if you want to know the index location of max\n",
        "ranarr.argmax()"
      ],
      "execution_count": 35,
      "outputs": [
        {
          "output_type": "execute_result",
          "data": {
            "text/plain": [
              "7"
            ]
          },
          "metadata": {
            "tags": []
          },
          "execution_count": 35
        }
      ]
    },
    {
      "cell_type": "code",
      "metadata": {
        "id": "7dtKs2nGzxAf",
        "colab_type": "code",
        "colab": {
          "base_uri": "https://localhost:8080/",
          "height": 34
        },
        "outputId": "f4e5f793-f9b6-48c3-e3bc-61865466310f"
      },
      "source": [
        "# if you want to know the minimum\n",
        "ranarr.min()"
      ],
      "execution_count": 36,
      "outputs": [
        {
          "output_type": "execute_result",
          "data": {
            "text/plain": [
              "2"
            ]
          },
          "metadata": {
            "tags": []
          },
          "execution_count": 36
        }
      ]
    },
    {
      "cell_type": "code",
      "metadata": {
        "id": "x_iMVlzVz-Tv",
        "colab_type": "code",
        "colab": {
          "base_uri": "https://localhost:8080/",
          "height": 34
        },
        "outputId": "b40c3734-d165-49af-efed-d8fd7ddf3ea6"
      },
      "source": [
        "# if you want to know the index of minimum\n",
        "ranarr.argmin()"
      ],
      "execution_count": 37,
      "outputs": [
        {
          "output_type": "execute_result",
          "data": {
            "text/plain": [
              "9"
            ]
          },
          "metadata": {
            "tags": []
          },
          "execution_count": 37
        }
      ]
    },
    {
      "cell_type": "code",
      "metadata": {
        "id": "ZWl2IZuQ0DPQ",
        "colab_type": "code",
        "colab": {
          "base_uri": "https://localhost:8080/",
          "height": 34
        },
        "outputId": "68c64cae-2b5f-4b01-83e4-24d18670e854"
      },
      "source": [
        "# if you want to know the data type\n",
        "ranarr.dtype"
      ],
      "execution_count": 38,
      "outputs": [
        {
          "output_type": "execute_result",
          "data": {
            "text/plain": [
              "dtype('int64')"
            ]
          },
          "metadata": {
            "tags": []
          },
          "execution_count": 38
        }
      ]
    },
    {
      "cell_type": "code",
      "metadata": {
        "id": "71kdEp4h0Qse",
        "colab_type": "code",
        "colab": {}
      },
      "source": [
        "myarr = np.random.rand(4)"
      ],
      "execution_count": 0,
      "outputs": []
    },
    {
      "cell_type": "code",
      "metadata": {
        "id": "6QkFVOk-0axt",
        "colab_type": "code",
        "colab": {
          "base_uri": "https://localhost:8080/",
          "height": 34
        },
        "outputId": "6f9e977a-b9a9-43a5-dad7-a545d6b97523"
      },
      "source": [
        "myarr.dtype"
      ],
      "execution_count": 41,
      "outputs": [
        {
          "output_type": "execute_result",
          "data": {
            "text/plain": [
              "dtype('float64')"
            ]
          },
          "metadata": {
            "tags": []
          },
          "execution_count": 41
        }
      ]
    },
    {
      "cell_type": "code",
      "metadata": {
        "id": "6LwjifeD0c1t",
        "colab_type": "code",
        "colab": {}
      },
      "source": [
        ""
      ],
      "execution_count": 0,
      "outputs": []
    }
  ]
}